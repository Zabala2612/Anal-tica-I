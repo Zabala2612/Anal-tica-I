{
  "nbformat": 4,
  "nbformat_minor": 0,
  "metadata": {
    "colab": {
      "private_outputs": true,
      "provenance": [],
      "include_colab_link": true
    },
    "kernelspec": {
      "name": "python3",
      "display_name": "Python 3"
    },
    "language_info": {
      "name": "python"
    }
  },
  "cells": [
    {
      "cell_type": "markdown",
      "metadata": {
        "id": "view-in-github",
        "colab_type": "text"
      },
      "source": [
        "<a href=\"https://colab.research.google.com/github/Zabala2612/Anal-tica-I/blob/main/Clases/M4_S12_Matplotlib.ipynb\" target=\"_parent\"><img src=\"https://colab.research.google.com/assets/colab-badge.svg\" alt=\"Open In Colab\"/></a>"
      ]
    },
    {
      "cell_type": "markdown",
      "source": [
        "<p><img alt=\"banner\" height=\"252px\" width=\"1080px\" src=\"https://docs.google.com/uc?export=download&id=1SqbMIjMfsMlSukiTyfMJ0VMuDlP2hGhx\"  align=\"center\" hspace=\"10px\" vspace=\"0px\" ></p>"
      ],
      "metadata": {
        "id": "0220Gb-4WZk5"
      }
    },
    {
      "cell_type": "markdown",
      "source": [
        "\n",
        "La visualización de datos es una parte importante de los procesos de análisis en ciencia de datos. Estas visualizaciones sirven como herramientas exploratorias al inicio del ciclo del ánalisis para tener ideas preliminares y un mejor entendimiento de los datos. Tambien se usan visualizaciones para soportar hipotesis y soportar resultados. Finalmente, las visualizaciones también son la forma de comunicar los hallazgos y conclusiones del ánalisis al final del ciclo del análisis de datos.\n",
        "\n",
        "Existen diversas herramientas para generar visualizaciones de datos en python, siendo las algunas de las más usadas [matplotlib](https://matplotlib.org/) y [plotly](https://plotly.com/graphing-libraries/) en este curso haremos una breve reseña de cada una de ellas considerando que pueden ser en algunas ocasiones complementarias\n",
        "\n",
        "* **Matplotlib** es una biblioteca fundamental que proporciona un conjunto completo de herramientas para crear una amplia gama de visualizaciones estáticas, interactivas y animadas. Es altamente versátil y se puede utilizar para crear desde gráficos básicos de líneas y barras hasta visualizaciones complejas.\n",
        "\n",
        "* **Plotly** se enfoca en la creación de visualizaciones interactivas y dinámicas que pueden integrarse en aplicaciones web o cuadernos. Es ideal para crear paneles visualmente atractivos y para la exploración interactiva de datos."
      ],
      "metadata": {
        "id": "k5KnbQJ3XvRq"
      }
    },
    {
      "cell_type": "markdown",
      "source": [
        "# <font color='056938'> **Importación de la libreria** </font>\n",
        "\n",
        "De la librería `matplotlib` se importa la librería `pyplot`, comúnmente con el alias `plt`.\n",
        "\n",
        "`pyplot` es un módulo que proporciona una interfaz similar a MATLAB para crear una variedad de gráficos de forma rápida y sencilla. Ofrece una forma conveniente de crear gráficos y diagramas con un código mínimo, lo que lo hace adecuado para visualizaciones simples y directas.\n",
        "\n",
        "La siguiente celda de código crea un gráfico sencillo usando `matplotlib`"
      ],
      "metadata": {
        "id": "zL9ZjCTHb-H2"
      }
    },
    {
      "cell_type": "code",
      "source": [
        "import matplotlib.pyplot as plt\n",
        "\n",
        "# Data for the plot\n",
        "x_values = [1, 2, 3, 4, 5]\n",
        "y_values = [2, 5, 6, 5, 10]\n",
        "\n",
        "# Create the plot\n",
        "plt.plot(x_values, y_values)\n",
        "\n",
        "# Adding title and labels\n",
        "plt.title('Simple Line Graph')\n",
        "plt.xlabel('X-axis')\n",
        "plt.ylabel('Y-axis')\n",
        "\n",
        "# Display the plot\n",
        "plt.show()"
      ],
      "metadata": {
        "id": "ES1SeE6yc8Un"
      },
      "execution_count": null,
      "outputs": []
    },
    {
      "cell_type": "markdown",
      "metadata": {
        "id": "53251488"
      },
      "source": [
        "\n",
        "# <font color='056938'> **Partes de una figura en matplotlib** </font>\n",
        "\n",
        "La siguiente gráfica muestra las principales componentes de una figura en `matplotlib`\n",
        "![pic](https://drive.google.com/uc?id=1yu1bzk_6M88OryXpy8eFKXaQNUjU63YD)\n",
        "\n",
        "\n",
        "\n",
        "\n"
      ]
    },
    {
      "cell_type": "markdown",
      "source": [
        "\n",
        "##  <font color='8EC044'> **Figure** (Figura) </font>\n",
        "\n",
        "\n",
        "La figura completa. Comprende todos las gráficas, ejes y \"adornos\" (títulos, leyendas, etc.).\n",
        "\n",
        "La forma más sencilla de crear una figura es con pyplot (`plt`):\n",
        "\n",
        "| | | |\n",
        "| :--- | :---: | :--- |\n",
        "| `fig = plt.figure()` | $\\rightarrow$ | Figura vacía sin gráficas|\n",
        "| `fig, ax = plt.subplots()` | $\\rightarrow$ | Figura con una sola gráfica |\n",
        "| `fig, axs = plt.subplots(m, n)` | $\\rightarrow$ | Figura con un arreglo de `m` x `n` gráficas |\n"
      ],
      "metadata": {
        "id": "5aLskDsKGsAQ"
      }
    },
    {
      "cell_type": "markdown",
      "source": [
        "\n",
        "##  <font color='8EC044'> **Axes** (Gráficas) </font>\n",
        "\n",
        "\n",
        "\n",
        "Son la región de la imagen que contiene los datos. Una figura puede tener varias gráficas, pero una gráfica puede pertenecer sólo a una figura. Una gráfica puede contener dos o tres **ejes**, los cuales controlan los límites de los datos en la gráfica.\n",
        "\n",
        "Tenga presenta la diferencia entre gráficas (**axes**) y ejes (**axis**)\n"
      ],
      "metadata": {
        "id": "Y-llU2ZRGyOv"
      }
    },
    {
      "cell_type": "markdown",
      "source": [
        "\n",
        "##  <font color='8EC044'> **Axis** (Ejes) </font>\n",
        "\n",
        "\n",
        "Son las líneas con datos numéricos. Estos objetos establecen la escala y los límites, generan marcas en el eje (ticks) y etiquetas de las marcas (ticklabels) en el gráfico.\n"
      ],
      "metadata": {
        "id": "dm8pRFZyG6_l"
      }
    },
    {
      "cell_type": "markdown",
      "source": [
        "\n",
        "##  <font color='8EC044'> **Artist** (Adornos) </font>\n",
        "\n",
        "\n",
        "Todo lo demás que se puede ver en una figura, que no sea la gráfica o los ejes. Incluye objetos de texto, de líneas, etc. (flechas, leyendas, títulos, cuadros de texto, etc.).\n",
        "\n",
        "Básicamente, todo lo que es visible en la Figura es un Artista (incluso los objetos Figura, graficas y ejes). Esto incluye objetos de Texto, lineas, etc. La mayoría de los adornos están vinculados a un gráfico (axe) por lo que un  adorno no puede ser compartido por varios gráficos ni movido de uno a otro.\n",
        "\n",
        "\n",
        "\n",
        "![pic](https://drive.google.com/uc?id=1TsIAJGZ4F8e2YL0zq7BYpJHvWhXuJ_M5)"
      ],
      "metadata": {
        "id": "z33YNLATG87w"
      }
    },
    {
      "cell_type": "markdown",
      "metadata": {
        "id": "ecfd8e3e"
      },
      "source": [
        "\n",
        "# <font color='056938'> **Generación de figuras con matplotlib** </font>\n",
        "\n",
        "Las figuras pueden crearse de diferentes formas, dependiendo de la complejidad de la figura deseada un método puede ser más conveniente que otro.\n",
        "\n",
        "Matplotlib tiene dos interfaces principales de aplicación, o estilos de uso de la biblioteca:\n",
        "\n",
        "* Una interfaz explícita de gráficos (Axes) que utiliza métodos en un objeto Figura o gráfico (Axe) para crear otros adornos y construir una visualización paso a paso. Esto también se ha llamado una interfaz *orientada a objetos*.\n",
        "\n",
        "* Una interfaz implícita de `pyplot` que realiza un seguimiento de la última Figura y gráficos (Axes) creados, y agrega adornos al objeto que cree que el usuario desea.\n",
        "\n",
        "\n",
        "\n",
        "\n"
      ]
    },
    {
      "cell_type": "markdown",
      "source": [
        "##  <font color='8EC044'> **Interfaz explícita** </font>\n",
        "\n",
        "Se crean explícitamente la figura y la gŕafica, utilizando un método subplots (o similar) y se modifican mediante métodos:\n",
        "\n",
        "- Creación de la figura: `fig, ax = plt.subplots()`\n",
        "- Creación de una gráfica dentro de la figura:  `ax.plot(x, y, atributos)`\n",
        "- Adornos: nombres de ejes (`ax.set_xlabel()`, `ax.set_ylabel()`), título (`ax.set_title()`), leyenda (`ax.legend()`), cuadrícula (`ax.grid()`), etc.\n",
        "\n"
      ],
      "metadata": {
        "id": "r2TTF_i-Jk8n"
      }
    },
    {
      "cell_type": "code",
      "source": [
        "import matplotlib.pyplot as plt\n",
        "\n",
        "# Datos para los ejes x e y\n",
        "x = [1, 2, 3, 4, 5]\n",
        "y = [2, 4, 6, 8, 10]\n",
        "\n",
        "# Crear una figura y un eje\n",
        "fig, ax = plt.subplots()\n",
        "\n",
        "# Crear un gráfico de línea en el eje\n",
        "ax.plot(x, y)\n",
        "\n",
        "# Etiquetar los ejes x e y y agregar un título\n",
        "ax.set_xlabel('Eje x')\n",
        "ax.set_ylabel('Eje y')\n",
        "ax.set_title('Mi primer gráfico de línea')\n",
        "\n",
        "# Mostrar el gráfico\n",
        "fig.show()\n"
      ],
      "metadata": {
        "id": "D9gdAqHPKjj2"
      },
      "execution_count": null,
      "outputs": []
    },
    {
      "cell_type": "markdown",
      "source": [
        "Llamamos a esto una interfaz \"explícita\" porque cada objeto se hace referencia explícitamente y se utiliza para crear el siguiente objeto."
      ],
      "metadata": {
        "id": "EDLu5CcFlYJh"
      }
    },
    {
      "cell_type": "markdown",
      "source": [
        "##  <font color='8EC044'> **Interfaz implícita usando pyplot** </font>\n",
        "\n",
        "Se usa pyplot (`plt`) para generar la figura con su gráfica de forma automática.  El módulo pyplot enmascara la mayoría de los métodos de trazado de los graficos .\n",
        "\n",
        "Se usa frecuentemente cuando se desea sólo unos ejes con una o varias curvas.\n",
        "\n",
        "- Creación de la figura: `plt.figure()`\n",
        "- Creación de una gráfica dentro de la figura: `plt.plot(x, y, atributos)`\n",
        "- Adornos:  nombres de ejes (`plt.xlabel()`, `plt.ylabel()`), título (`plt.title()`), leyenda (`plt.legend()`), cuadrícula (`plt.grid()`) , etc.\n",
        "\n",
        "<br>"
      ],
      "metadata": {
        "id": "36j3a8emJzPX"
      }
    },
    {
      "cell_type": "code",
      "source": [
        "import matplotlib.pyplot as plt\n",
        "\n",
        "# Datos para los ejes x e y\n",
        "x = [1, 2, 3, 4, 5]\n",
        "y = [2, 4, 6, 8, 10]\n",
        "\n",
        "# crea el gráfico\n",
        "plt.plot(x, y)\n",
        "\n",
        "# Definir etiquetas\n",
        "plt.xlabel('X-axis Label')\n",
        "plt.ylabel('Y-axis Label')\n",
        "plt.title('Mi primer gráfico de línea')\n",
        "\n",
        "plt.show()"
      ],
      "metadata": {
        "id": "IsSjDHpbmH1T"
      },
      "execution_count": null,
      "outputs": []
    },
    {
      "cell_type": "markdown",
      "source": [
        "En general, es útil entender la interfaz explícita de gráficos ya que es la más flexible y es la base de las demás interfaces. Si bien la interfaz explícita puede ser requerir más código para configurarse, las figuras complicadas suelen ser más simples que usando la interfaz implícita de \"pyplot\"."
      ],
      "metadata": {
        "id": "8nQIiqIjnJqg"
      }
    },
    {
      "cell_type": "markdown",
      "metadata": {
        "id": "b2d0d451"
      },
      "source": [
        "\n",
        "##  <font color='8EC044'> **Crear gráficos desde otras librerias usando matplotlib** </font>\n",
        "Adicionalmente los gráficos pueden crearse directamente desde otras aplicaciones que han implementado interfaces con `matplotlib`. Este es el caso de `pandas`, que permite gráficar datos directamente desde series y dataframes\n",
        "\n"
      ]
    },
    {
      "cell_type": "markdown",
      "source": [
        "Considere el siguiente dataframe"
      ],
      "metadata": {
        "id": "Zt46K1MAWRNc"
      }
    },
    {
      "cell_type": "code",
      "execution_count": null,
      "metadata": {
        "id": "LfG1jbewWRNd"
      },
      "outputs": [],
      "source": [
        "import pandas as pd\n",
        "datos = {'Serie 1':[1,3,4,3,5],'Serie 2':[2,4,5,2,4],'Serie 3':[3,2,3,1,3]}\n",
        "df = pd.DataFrame(datos)\n",
        "df"
      ]
    },
    {
      "cell_type": "markdown",
      "metadata": {
        "id": "Vktt0hduWRNe"
      },
      "source": [
        "Craremos un gréfico de líneas directamente desde el dataframe a la figura especificando como argumento de entrada el dataframe"
      ]
    },
    {
      "cell_type": "code",
      "execution_count": null,
      "metadata": {
        "scrolled": false,
        "id": "khLTy8wlWRNe"
      },
      "outputs": [],
      "source": [
        "\n",
        "import matplotlib.pyplot as plt\n",
        "\n",
        "# Plotting the graph\n",
        "df.plot(kind='line')\n",
        "plt.title('Line Plot of Series 1, 2, and 3')\n",
        "plt.xlabel('X-axis')\n",
        "plt.ylabel('Y-axis')\n",
        "plt.show()"
      ]
    },
    {
      "cell_type": "markdown",
      "source": [
        "Note que dado que pandas nos retorna los gráficos (axes) podemos interactuar y modificar sus propiedades: en este caso el título y las etiquetas de los ejes.\n",
        "\n",
        "Note también que podrían graficarse sólo algunas columnas del DataFrame"
      ],
      "metadata": {
        "id": "m_0AsAr8Your"
      }
    },
    {
      "cell_type": "code",
      "source": [
        "df[['Serie 1', 'Serie 2']].plot(kind='line')\n",
        "plt.title('Line Plot of Series 1, 2, and 3')\n",
        "plt.xlabel('X-axis')\n",
        "plt.ylabel('Y-axis')\n",
        "plt.show()"
      ],
      "metadata": {
        "id": "g0sl3CvBeAvI"
      },
      "execution_count": null,
      "outputs": []
    },
    {
      "cell_type": "markdown",
      "source": [
        "## <font color='157699'> **Ejercicio 1** </font>\n",
        "\n",
        "Considere el siguiente DataFrame con información sobre el valor del bitcoin desde 2010"
      ],
      "metadata": {
        "id": "at6yZukJqRSz"
      }
    },
    {
      "cell_type": "code",
      "source": [
        "import pandas as pd\n",
        "\n",
        "!gdown 1Q83_hlE_kerPFrkcnB-Ferg97jJPc1Sd\n",
        "df_bitcoin = pd.read_excel('historicoBitcoin.xlsx')\n",
        "df_bitcoin['Fecha'] = pd.to_datetime(df_bitcoin['Fecha'], format='%d.%m.%Y')\n",
        "df_bitcoin.head()"
      ],
      "metadata": {
        "id": "UznNVQFgm8K5"
      },
      "execution_count": null,
      "outputs": []
    },
    {
      "cell_type": "markdown",
      "source": [
        "Genere un gráfico que describa la evolución del precio máximo del bitcoin en el período de estudio"
      ],
      "metadata": {
        "id": "igI1NNUvnVxt"
      }
    },
    {
      "cell_type": "code",
      "source": [
        "# inserte aquí su respuesta\n"
      ],
      "metadata": {
        "id": "lC77A-bLvGbG"
      },
      "execution_count": null,
      "outputs": []
    },
    {
      "cell_type": "markdown",
      "metadata": {
        "id": "cb01674f"
      },
      "source": [
        "\n",
        "# <font color='056938'> **Varias curvas en una misma gráfica (axes)** </font>\n",
        "\n",
        "\n",
        "Esto se puede hacerse de la forma implicita que describimos anteriormente\n",
        "\n",
        "\n",
        "\n",
        "\n"
      ]
    },
    {
      "cell_type": "code",
      "source": [
        "import numpy as np\n",
        "x = np.linspace(0,2,100) # Crea un vector de 100 valores entre 0 y 2\n",
        "plt.figure()\n",
        "\n",
        "plt.plot(x,x,label='Lineal')\n",
        "plt.plot(x,x**2,label='Cuadrado')\n",
        "plt.plot(x,x**3,label='Cubo')\n",
        "\n",
        "plt.xlabel('x')\n",
        "plt.ylabel('Potencias de x')\n",
        "plt.title('Gráfica de potencias de x',fontsize=14)\n",
        "plt.legend()\n",
        "plt.grid()"
      ],
      "metadata": {
        "id": "LlhVh6ppsUv7"
      },
      "execution_count": null,
      "outputs": []
    },
    {
      "cell_type": "markdown",
      "source": [
        "De forma analoga podría hacerse mediante una sola invocación a la funcion `plot()` pasando los tres conjuntos de datos. En este caso, si se desea tener una etiqueta que permita identificar las curvas, hace falta especificarlo en la función `legend`. El orden del nombre de las curvas debe corresponder con el orden en que escriben en la función `plot`."
      ],
      "metadata": {
        "id": "vK3UAnRSssKq"
      }
    },
    {
      "cell_type": "code",
      "execution_count": null,
      "metadata": {
        "id": "01dce105"
      },
      "outputs": [],
      "source": [
        "import numpy as np\n",
        "x = np.linspace(0,2,100) # Crea un vector de 100 valores entre 0 y 2\n",
        "\n",
        "plt.figure()\n",
        "plt.plot(x, x, x, x**2, x, x**3)\n",
        "\n",
        "plt.legend(['lineal','cuadrado','cubo'])    # El orden de la leyenda debe ser el mismo de las gráficas\n",
        "plt.xlabel('x')\n",
        "plt.ylabel('Potencias de x')\n",
        "plt.title('Gráfica de potencias de x',fontsize=14)\n",
        "plt.grid()"
      ]
    },
    {
      "cell_type": "markdown",
      "source": [
        "Adicionalmente, es posible crear el mismo gráfico usando la forma explicita que ya describimos\n"
      ],
      "metadata": {
        "id": "S2ljA0hDN0zP"
      }
    },
    {
      "cell_type": "code",
      "source": [
        "import numpy as np\n",
        "x = np.linspace(0,2,100)\n",
        "fig, ax = plt.subplots()\n",
        "\n",
        "ax.plot(x,x,label='Lineal')\n",
        "ax.plot(x,x**2,label='Cuadrado')\n",
        "ax.plot(x,x**3,label='Cubo')\n",
        "\n",
        "\n",
        "ax.set_xlabel('x')\n",
        "ax.set_ylabel('Potencias de x')\n",
        "ax.set_title('Gráfica de potencias de x',fontsize=14)\n",
        "ax.legend()\n",
        "ax.grid()\n",
        "\n",
        "fig.show()"
      ],
      "metadata": {
        "id": "IWfkJlUlOCU2"
      },
      "execution_count": null,
      "outputs": []
    },
    {
      "cell_type": "markdown",
      "source": [
        "# <font color='056938'> **Varias gráficas (axes) en una figura** </font>\n",
        "\n",
        "\n",
        "Permiten organizar gráficas dentro de una figura en una distribución bidimensional al estilo de una matriz. Esto podría hacerse a través de `subplots()`. Aquí son importantes los parámetros `nrows` y `ncols` que definen el número de filas y el gráficos en cada fila respectivamente."
      ],
      "metadata": {
        "id": "L7RWK4m5NqxW"
      }
    },
    {
      "cell_type": "code",
      "source": [
        "import matplotlib.pyplot as plt\n",
        "import numpy as np\n",
        "\n",
        "x = np.linspace(0,2,100)\n",
        "\n",
        "\n",
        "\n",
        "# Crear una figura y dos ejes\n",
        "fig, axs = plt.subplots(nrows=2, ncols=2, figsize=(8, 4))\n",
        "\n",
        "# Crear un gráfico de línea en la primera gráfica de la primera fila\n",
        "ax1 = axs[0,0]\n",
        "ax1.plot(x, x, color='blue')\n",
        "ax1.set_xlabel('Eje x')\n",
        "ax1.set_ylabel('Eje y')\n",
        "ax1.set_title('Lineal')\n",
        "\n",
        "# Crear un gráfico de línea en la segunda gráfica de la primera fila\n",
        "ax2 = axs[0,1]\n",
        "ax2.plot(x, -x, color='green')\n",
        "ax2.set_xlabel('Eje x')\n",
        "ax2.set_ylabel('Eje y')\n",
        "ax2.set_title('inversa')\n",
        "\n",
        "# Crear un gráfico de línea en la primera gráfica de la segunda fila\n",
        "ax3 = axs[1,0]\n",
        "ax3.plot(x, x**2, color='green')\n",
        "ax3.set_xlabel('Eje x')\n",
        "ax3.set_ylabel('Eje y')\n",
        "ax3.set_title('cuadrado')\n",
        "\n",
        "# Crear un gráfico de línea en la segunda gráfica de la segunda fila\n",
        "ax4 = axs[1,1]\n",
        "ax4.plot(x, x**3, color='green')\n",
        "ax4.set_xlabel('Eje x')\n",
        "ax4.set_ylabel('Eje y')\n",
        "ax4.set_title('cubo')\n",
        "\n",
        "# Ajustar los espacios entre los subplots\n",
        "fig.tight_layout()\n",
        "\n",
        "# Mostrar la figura\n",
        "fig.show()"
      ],
      "metadata": {
        "id": "CMqI-oSLK80W"
      },
      "execution_count": null,
      "outputs": []
    },
    {
      "cell_type": "markdown",
      "source": [
        "## <font color='157699'> **Ejercicio 2** </font>\n",
        "\n",
        "Considere el siguiente DataFrame con información sobre el valor del bitcoin desde 2010"
      ],
      "metadata": {
        "id": "15UGlWIT0f0F"
      }
    },
    {
      "cell_type": "code",
      "source": [
        "import pandas as pd\n",
        "\n",
        "!gdown 1Q83_hlE_kerPFrkcnB-Ferg97jJPc1Sd\n",
        "df_bitcoin = pd.read_excel('historicoBitcoin.xlsx')\n",
        "df_bitcoin['Fecha'] = pd.to_datetime(df_bitcoin['Fecha'], format='%d.%m.%Y')\n",
        "df_bitcoin.head()"
      ],
      "metadata": {
        "id": "VQa9Ta9R0f0F"
      },
      "execution_count": null,
      "outputs": []
    },
    {
      "cell_type": "markdown",
      "source": [
        "Genere una figura con un arreglo de tres gráficos correspondientes al precio  gráfico  precio máximo, mínimo y a variación durante el periodo de observación"
      ],
      "metadata": {
        "id": "ReBtYz3a0f0F"
      }
    },
    {
      "cell_type": "code",
      "source": [
        "# inserte aquí su respuesta\n"
      ],
      "metadata": {
        "id": "WvzBj72k0f0G"
      },
      "execution_count": null,
      "outputs": []
    },
    {
      "cell_type": "markdown",
      "source": [
        "# <font color='056938'> **Gráficas en tres dimensiones** </font>\n",
        "\n",
        "Para generar gráficos en 3D usando `matplotlib` es necesario importar el modulo Axes3D mediante la siguiente instrucción\n",
        "\n",
        "```Pytnon\n",
        "from mpl_toolkits.mplot3d import Axes3D\n",
        "```\n",
        "\n"
      ],
      "metadata": {
        "id": "8v-s7Ex7WOvr"
      }
    },
    {
      "cell_type": "code",
      "source": [
        "import matplotlib.pyplot as plt\n",
        "import numpy as np\n",
        "from mpl_toolkits.mplot3d import Axes3D\n",
        "\n",
        "# Generate some sample data\n",
        "t = np.linspace(0, 10, 100)\n",
        "x = np.sin(t)\n",
        "y = np.cos(t)\n",
        "z = t\n",
        "\n",
        "# Create a 3D figure\n",
        "fig = plt.figure(figsize=(8, 6))\n",
        "ax = fig.add_subplot(111, projection='3d')\n",
        "\n",
        "# Plot the 3D graph\n",
        "ax.plot(x, y, z, label='parametric curve')\n",
        "ax.set_xlabel('X-axis')\n",
        "ax.set_ylabel('Y-axis')\n",
        "ax.set_zlabel('Z-axis')\n",
        "ax.set_title('3D Parametric Plot')\n",
        "ax.legend()\n",
        "\n",
        "# Show the 3D plot\n",
        "plt.show()"
      ],
      "metadata": {
        "id": "eT3OWSrMc50B"
      },
      "execution_count": null,
      "outputs": []
    },
    {
      "cell_type": "markdown",
      "source": [
        "De igual manera para crear una superficie"
      ],
      "metadata": {
        "id": "5vdgBL-eeO4D"
      }
    },
    {
      "cell_type": "code",
      "source": [
        "import matplotlib.pyplot as plt\n",
        "import numpy as np\n",
        "from mpl_toolkits.mplot3d import Axes3D\n",
        "\n",
        "# Generate some sample data\n",
        "x = np.linspace(-5, 5, 100)\n",
        "y = np.linspace(-5, 5, 100)\n",
        "x, y = np.meshgrid(x, y)\n",
        "z = np.sin(np.sqrt(x**2 + y**2))\n",
        "\n",
        "# Create a 3D figure\n",
        "fig = plt.figure(figsize=(8, 6))\n",
        "ax = fig.add_subplot(111, projection='3d')\n",
        "\n",
        "# Plot the surface\n",
        "ax.plot_surface(x, y, z, cmap='viridis')\n",
        "\n",
        "# Set labels and title\n",
        "ax.set_xlabel('X-axis')\n",
        "ax.set_ylabel('Y-axis')\n",
        "ax.set_zlabel('Z-axis')\n",
        "ax.set_title('3D Surface Plot')\n",
        "\n",
        "# Show the 3D plot\n",
        "plt.show()\n"
      ],
      "metadata": {
        "id": "bApmP3xacK8Q"
      },
      "execution_count": null,
      "outputs": []
    },
    {
      "cell_type": "markdown",
      "source": [
        "# <font color='056938'> **Edición de una figura** </font>\n",
        "\n",
        "Las propiedades de las figuras y sus gráficas (Axes) pueden ser personalizadas al momento de su creación o modificadas posteriormente a su creación"
      ],
      "metadata": {
        "id": "juSnLQFxOSlu"
      }
    },
    {
      "cell_type": "markdown",
      "metadata": {
        "id": "07303544"
      },
      "source": [
        "##  <font color='8EC044'> **Modificación de una gráfica con key word arguments-*kwargs*** </font>\n",
        "\n",
        "El aspecto de una figura puede cambiarse a través de la especificación de sus argumento. Algunos de los argumentos más comunes son:\n",
        "\n",
        "| Argumento | Descripción |\n",
        "| --- | --- |\n",
        "| `color` | Color de la línea o marcador |\n",
        "| `marker` | Tipo de marcador utilizado para los puntos en un gráfico de dispersión |\n",
        "| markersize          | Establece el tamaño de los marcadores.           |\n",
        "| `linestyle` | Estilo de la línea (por ejemplo, `-` para una línea sólida, `--` para una línea discontinua) |\n",
        "| `linewidth` | Ancho de la línea |\n",
        "| `alpha` | Opacidad de la línea o marcador (un valor entre 0 y 1) |\n",
        "| `label` | Etiqueta para la serie de datos (utilizada en la leyenda) |\n",
        "\n",
        "\n",
        "\n",
        "\n",
        "\n"
      ]
    },
    {
      "cell_type": "markdown",
      "source": [
        "Otras propiedades de la gráfica pueden modificarse mediante funciones. La siguiente tabla las resume dependiendo de si se construye la figura del modo implícito (impl) o explícito (expl)\n",
        "\n",
        "| Función (impl)             | Funcion (expl)             | Descripción                                       |\n",
        "|---------------------|-----------------------------------------|---------------------------------------------------|\n",
        "| plt.title           | ax.set_title()                          | Establece el título de la gráfica.                 |\n",
        "| plt.xlabel          | ax.set_xlabel()                         | Establece la etiqueta para el eje x.               |\n",
        "| plt.ylabel          | ax.set_ylabel()                         | Establece la etiqueta para el eje y.               |\n",
        "| plt.xlim            | ax.set_xlim()                           | Establece los límites para el eje x.               |\n",
        "| plt.ylim            | ax.set_ylim()                           | Establece los límites para el eje y.               |\n",
        "| plt.grid            | ax.grid()                               | Muestra las líneas de la cuadrícula en la gráfica. |\n",
        "| plt.legend          | ax.legend()                             | Muestra la leyenda en la gráfica.                  |\n",
        "| plt.xticks          | ax.set_xticks()                         | Establece la ubicación y etiquetas de las marcas del eje x. |\n",
        "| plt.yticks          | ax.set_yticks()                         | Establece la ubicación y etiquetas de las marcas del eje y. |\n",
        "\n"
      ],
      "metadata": {
        "id": "kTF4RNzTiq16"
      }
    },
    {
      "cell_type": "markdown",
      "source": [
        "Veamos un ejemplo en el que se definen algunos atributos del gráfico"
      ],
      "metadata": {
        "id": "0SvOXiEAj6t5"
      }
    },
    {
      "cell_type": "code",
      "source": [
        "import matplotlib.pyplot as plt\n",
        "import numpy as np\n",
        "\n",
        "x = np.arange(0, 11)\n",
        "\n",
        "fig, ax = plt.subplots(figsize=(9,5))\n",
        "ax.plot(x,x**2,\n",
        "        linewidth=3,\n",
        "        color='green',\n",
        "        marker='s',\n",
        "        markerfacecolor='black',\n",
        "        markeredgecolor='red',\n",
        "        label=\"Datos\")\n",
        "\n",
        "ax.legend(loc=2)\n",
        "\n",
        "ax.set_xlabel('Nombre eje x')\n",
        "ax.set_ylabel('Nombre eje y')\n",
        "ax.set_title('Variable al cuadrado')\n",
        "ax.grid()\n",
        "\n",
        "fig.show()"
      ],
      "metadata": {
        "id": "QYokFIpbexr_"
      },
      "execution_count": null,
      "outputs": []
    },
    {
      "cell_type": "markdown",
      "metadata": {
        "id": "23e79bee"
      },
      "source": [
        "\n",
        "###  <font color='46B8A9'> **Ubicación de la leyenda** </font>\n",
        "\n",
        "La ubicación de la leyenda se determina mediante la función `legend()` a través del parámetro `loc`\n",
        "\n",
        "| Código | Ubicación |\n",
        "| :---: | :--- |\n",
        "| 0 | mejor (*best*)|\n",
        "| 1 | sup. der. |\n",
        "| 2 | sup. izq |\n",
        "| 3 | inf. der. |\n",
        "| 4 | inf. izq. |\n",
        "| **5** | **derecha (centro)** |\n",
        "| 6 | centro izq. |\n",
        "| **7** | **centro der.** |\n",
        "| 8 | centro abajo |\n",
        "| 9 | centro arriba |\n",
        "| 10 | centro |"
      ]
    },
    {
      "cell_type": "markdown",
      "metadata": {
        "id": "aaf99d97"
      },
      "source": [
        "###  <font color='46B8A9'> **Insertar texto** </font>\n",
        "\n",
        "Para insertar texto con el método `text()` se debe usar la siguiente sintaxis:\n",
        "\n",
        "`plt.text(posicion_x, posicion_y, 'Texto a insertar')`\n",
        "\n",
        "Las posiciones en ambos ejes están relacionadas con la escala de éstos en la gráfica.\n",
        "\n",
        "Es posible incluir ecuaciones de *LaTeX* en las leyendas, y en general en el texto de ejes, títulos, etc., anteponiendo el carácter `r` a las comas simples que circunscriben el texto. Hace falta usar el carácter `$` para iniciar y terminar una ecuación de latex:\n",
        "\n"
      ]
    },
    {
      "cell_type": "code",
      "source": [
        "import matplotlib.pyplot as plt\n",
        "import numpy as np\n",
        "\n",
        "x = np.arange(0, 11)\n",
        "\n",
        "fig, ax = plt.subplots()\n",
        "ax.plot(x,x**2,\n",
        "        linewidth=3,\n",
        "        color='green',\n",
        "        marker='s',\n",
        "        markerfacecolor='black',\n",
        "        markeredgecolor='red',\n",
        "        label=\"Datos\")\n",
        "\n",
        "ax.legend()\n",
        "\n",
        "ax.set_xlabel('Nombre eje x')\n",
        "ax.set_ylabel('Nombre eje y')\n",
        "ax.set_title('Variable al cuadrado')\n",
        "\n",
        "for i in range(len(x)):\n",
        "    ax.text(x[i],x[i]**2+0.5,'(' + str(x[i]) + ', ' + str(x[i]**2) + ')')\n",
        "\n",
        "ax.text(0.5,50,r'$ y = x^2 $', fontsize=18, bbox={'facecolor':'yellow','alpha':0.3,'edgecolor':'red'})\n",
        "\n",
        "fig.show()"
      ],
      "metadata": {
        "id": "lpThIApVD0Xh"
      },
      "execution_count": null,
      "outputs": []
    },
    {
      "cell_type": "markdown",
      "metadata": {
        "id": "097fb599"
      },
      "source": [
        "###  <font color='157699'> **Ejemplo: Corazón** </font>"
      ]
    },
    {
      "cell_type": "code",
      "execution_count": null,
      "metadata": {
        "id": "ddf7490d"
      },
      "outputs": [],
      "source": [
        "x = np.linspace(-2, 2, 500)\n",
        "y_1 = np.sqrt(1 - (np.abs(x) - 1)**2)\n",
        "y_2 = -2.5*np.sqrt(1 - np.sqrt(np.abs(x)/2))\n",
        "\n",
        "fig, ax = plt.subplots(figsize=(5, 5))\n",
        "ax.plot(x, y_1, 'r', x, y_2, 'r', linewidth=3)\n",
        "\n",
        "ax.set_axis_off()"
      ]
    },
    {
      "cell_type": "markdown",
      "source": [
        "### <font color='157699'> **Ejercicio 3** </font>"
      ],
      "metadata": {
        "id": "kQo0n4TY7fx9"
      }
    },
    {
      "cell_type": "markdown",
      "source": [
        "Considere la siguiente figura"
      ],
      "metadata": {
        "id": "1YC12Qql70An"
      }
    },
    {
      "cell_type": "code",
      "source": [
        "import matplotlib.pyplot as plt\n",
        "import numpy as np\n",
        "\n",
        "# Datos para las gráficas\n",
        "x = np.linspace(0, 10, 100)\n",
        "y1 = np.sin(x)\n",
        "y2 = np.cos(x)\n",
        "y3 = np.tan(x)\n",
        "\n",
        "# Crear la figura y los ejes\n",
        "fig, ax = plt.subplots()\n",
        "\n",
        "# Agregar las gráficas a los ejes\n",
        "ax.plot(x, y1)\n",
        "ax.plot(x, y2)\n",
        "ax.plot(x, y3)\n",
        "\n",
        "# Mostrar la figura\n",
        "plt.show()\n"
      ],
      "metadata": {
        "id": "cPKg5ZkH7gIP"
      },
      "execution_count": null,
      "outputs": []
    },
    {
      "cell_type": "markdown",
      "source": [
        "Modifique el código anterior de modo que agrege a la figura las leyendas de cada gráfico, la etiqueta de los ejes y el título"
      ],
      "metadata": {
        "id": "f4PiuGtM73FD"
      }
    },
    {
      "cell_type": "code",
      "source": [
        "# Inserte aquí su respuesta\n"
      ],
      "metadata": {
        "id": "lpP-bOnm8ZX4"
      },
      "execution_count": null,
      "outputs": []
    },
    {
      "cell_type": "markdown",
      "source": [
        "# <font color='056938'> **Tipos de gráficos** </font>\n",
        "\n",
        "Hasta ahora la mayoria de los ejemplos en este notebook han hecho uso del gráfico de lineas. Sin embargo, `matplotlib` ofrece una variedad de gráficos connfigurados de forma predeterminada. Esta es una lista de algunos de ellos"
      ],
      "metadata": {
        "id": "gnFG2p1WMqBP"
      }
    },
    {
      "cell_type": "markdown",
      "source": [
        "| Tipo de gráfico | Función en Matplotlib | Descripción |\n",
        "| --- | --- | --- |\n",
        "| Gráfico de línea | `plot` | Visualiza la relación entre dos variables continuas a través de una línea que conecta los puntos. |\n",
        "| Gráfico de dispersión | `scatter` | Visualiza la relación entre dos variables continuas a través de puntos en un plano cartesiano. |\n",
        "| Gráfico de barras | `bar` | Visualiza la comparación de diferentes categorías a través de barras rectangulares verticales u horizontales. |\n",
        "| Gráfico de histograma | `hist` | Visualiza la distribución de una variable continua a través de un conjunto de barras rectangulares. |\n",
        "| Gráfico de torta | `pie` | Visualiza la proporción de cada categoría dentro de un conjunto a través de una \"torta\" dividida en sectores. |\n",
        "| Gráfico de caja | `boxplot` | Visualiza la distribución de una variable continua a través de un cuadro con líneas que representan los cuartiles y los valores atípicos. |\n",
        "| Gráfico de violín | `violinplot` | Visualiza la distribución de una variable continua a través de un violín que muestra la densidad de probabilidad. |\n",
        "| Gráfico de área | `fill_between` | Visualiza el cambio en la magnitud de una variable a través del tiempo o de otra variable. |\n",
        "| Gráfico de calor | `imshow` | Visualiza una matriz de datos numéricos como un mapa de calor en colores. |\n"
      ],
      "metadata": {
        "id": "OREcdHx223ee"
      }
    },
    {
      "cell_type": "markdown",
      "source": [
        "La documentación de matplotlib provee una [hoja guía](https://matplotlib.org/cheatsheets/_images/cheatsheets-1.png) con instrucciones básicas y la descripción de los principales tipos de gráficos\n",
        "\n"
      ],
      "metadata": {
        "id": "fFbyn_4M2tA4"
      }
    },
    {
      "cell_type": "markdown",
      "metadata": {
        "id": "f3484654"
      },
      "source": [
        "##  <font color='8EC044'> **Curvas o gráficas de líneas y puntos de datos** </font>\n",
        "\n",
        "Este tipo de gráficas es el más común, ya que permite ver la relación entre dos variables en una representación bidimensional."
      ]
    },
    {
      "cell_type": "code",
      "execution_count": null,
      "metadata": {
        "id": "43f1969e"
      },
      "outputs": [],
      "source": [
        "import matplotlib.pyplot as plt\n",
        "import numpy as np\n",
        "\n",
        "fig, ax = plt.subplots()\n",
        "\n",
        "ax.plot(x,x,label='Lineal')\n",
        "ax.plot(x,x**2,label='Cuadrado')\n",
        "ax.plot(x,x**3,label='Cubo')\n",
        "\n",
        "ax.set_xlabel('x')\n",
        "ax.set_ylabel('Potencias de x')\n",
        "ax.set_title('Gráfica de potencias de x',fontsize=14)\n",
        "ax.legend()\n",
        "ax.grid()\n",
        "\n",
        "fig.show()"
      ]
    },
    {
      "cell_type": "markdown",
      "metadata": {
        "id": "69a708f3"
      },
      "source": [
        "\n",
        "##  <font color='8EC044'> **Histogramas** </font>\n",
        "\n",
        "Este tipo de gráficas se usa frecuentemente para representar una gran cantidad de datos de forma compacta. Éstos representan rangos o intervalos de datos (conocidos como *bins*), y el conteo o frecuencia de los datos que están en dicho intervalo."
      ]
    },
    {
      "cell_type": "code",
      "execution_count": null,
      "metadata": {
        "id": "7d09fbd9"
      },
      "outputs": [],
      "source": [
        "dat_a = np.random.randint(0,21,200)    # vector de 100 números aleatorios enteros entre 0 y 20\n",
        "dat_a"
      ]
    },
    {
      "cell_type": "markdown",
      "metadata": {
        "id": "0ee14dd5"
      },
      "source": [
        "La función `hist()` permite crear histogramas a partir de datos como los mostrados en la celda anterior. Cuando se da como argumento únicamente la variable con los datos, se crean 10 intervalos o bins de forma predeterminada.\n",
        "\n",
        "Los detalles sobre como usar esta función se encuentran en la ayuda: `help(plt.hist)`"
      ]
    },
    {
      "cell_type": "code",
      "execution_count": null,
      "metadata": {
        "id": "09f3f476"
      },
      "outputs": [],
      "source": [
        "import numpy as np\n",
        "import matplotlib.pyplot as plt\n",
        "\n",
        "fig, ax = plt.subplots()\n",
        "ax.hist(dat_a)"
      ]
    },
    {
      "cell_type": "markdown",
      "metadata": {
        "id": "185360c2"
      },
      "source": [
        "Por ejemplo, se puede determinar cuántos intervalos se desean con el parámetro `bins`, así como el ancho relativo de las barras (para que no se traslapen y sea más fácil la interpretación de la gráfica), con el parámetro `rwidth`.\n",
        "\n",
        "Dado el número de intervalos o *bins*, es conveniente fijar la ubicación de las marcas en el eje de las abscisas, mediante la función `xticks`."
      ]
    },
    {
      "cell_type": "code",
      "execution_count": null,
      "metadata": {
        "scrolled": false,
        "id": "94787d61"
      },
      "outputs": [],
      "source": [
        "import matplotlib.pyplot as plt\n",
        "\n",
        "fig, ax = plt.subplots()\n",
        "ax.hist(dat_a, bins=20, rwidth=0.8)\n",
        "ax.set_xticks(np.arange(0,21))\n",
        "ax.grid(axis='y')\n",
        "\n",
        "fig.show()\n"
      ]
    },
    {
      "cell_type": "markdown",
      "metadata": {
        "id": "7053b708"
      },
      "source": [
        "\n",
        "##  <font color='8EC044'> **Gráficas de barras** </font>\n",
        "\n",
        "Se construyen con la función `bar()` (barras verticales), a la cual se le deben dar como argumentos los valores de x (vector con la ubicación de cada barra), los valores de y (altura de cada barra), y otros parámetros opcionales, como barras de error y opciones artísticas.\n",
        "\n",
        "Son similares visualmente a los histogramas, pero difieren en algo fundamental. Con las gráficas de barras se determina previamente la altura de cada barra, según lo que se desee representar.\n",
        "\n",
        "Este tipo de gráficas son útiles para representar resultados de variables cualitativas, por ejemplo: género (masculino y femenino), o tipo de vehículo (automóvil, pickup, camión, etc).\n",
        "\n",
        "Con barras también se puede representar de forma controlada rangos de datos de variables numéricas, por ejemplo: rangos de edad (<18, 18-25, 25-35, 35-50, etc.), rangos de temperatura (<0, 0-25, 25-100, 100-180, etc.).\n",
        "\n",
        "Para cada barra se puede representar el error en los datos (normalmente medido como la desviación estándar de los datos)."
      ]
    },
    {
      "cell_type": "code",
      "execution_count": null,
      "metadata": {
        "id": "0c8667d7"
      },
      "outputs": [],
      "source": [
        "indice = [0,1,2,3,4]\n",
        "valores = [5,7,3,4,6]\n",
        "error = [0.8, 1, 0.4, 0.9, 1.3]\n",
        "\n",
        "plt.figure(figsize=(8,4))\n",
        "plt.bar(indice,\n",
        "        valores)\n",
        "plt.xticks(indice,['A', 'B', 'C', 'D', 'E'])\n",
        "plt.legend(loc=9)\n",
        "plt.xlabel('Tipo de material')\n",
        "plt.ylabel('Precio local [1000$/kg]')\n",
        "\n"
      ]
    },
    {
      "cell_type": "markdown",
      "metadata": {
        "id": "3b85f0bd"
      },
      "source": [
        "Es posible costruir gráficas de barras horizontales usando la función `barh()` en vez de bar. Todos los parámetros son los mimos, excepto el error, el cual se debe dar con el parámetro `xerr`, en vez de `yerr`.\n",
        "\n",
        "También se deben invertir los nombres de los ejes."
      ]
    },
    {
      "cell_type": "code",
      "execution_count": null,
      "metadata": {
        "id": "6edc5b91"
      },
      "outputs": [],
      "source": [
        "plt.figure(figsize=(8,4))\n",
        "plt.barh(indice,valores,xerr=error, error_kw={'ecolor':'0.1','capsize':8},label='Datos', alpha=0.7)\n",
        "plt.yticks(indice,['A', 'B', 'C', 'D', 'E'])\n",
        "plt.legend(loc=7)\n",
        "plt.ylabel('Tipo de material')\n",
        "plt.xlabel('Precio local [1000$/kg]')"
      ]
    },
    {
      "cell_type": "markdown",
      "metadata": {
        "id": "b0118e2e"
      },
      "source": [
        "###  <font color='46B8A9'> **Gráficas de barras con varias series o conjuntos de datos** </font>\n",
        "\n",
        "Se pueden construir usando una vez la función `bar()` (o `barh()`) por cada serie de datos.\n",
        "\n",
        "En este caso se debe cuidar que la posición en la cual se graficará cada barra sea diferente, para que no se traslapen y quede información oculta. Esto se puede conseguir fijando unos índice únicos, y restando/sumando a estos valores una fracción según el número de series de datos."
      ]
    },
    {
      "cell_type": "code",
      "execution_count": null,
      "metadata": {
        "id": "339a159a"
      },
      "outputs": [],
      "source": [
        "indice = np.arange(5)\n",
        "val_1 = [5,7,3,4,6]\n",
        "val_2 = [6,6,4,5,7]\n",
        "val_3 = [5,6,5,4,6]\n",
        "ab = 0.3\n",
        "\n",
        "plt.figure(figsize=(8,4))\n",
        "plt.bar(indice - ab, val_1, ab, color='b', label = 'Ciudad 1')\n",
        "plt.bar(indice, val_2, ab, color='g', label = 'Ciudad 2')\n",
        "plt.bar(indice + ab, val_3, ab, color='r', label = 'Ciudad 3')\n",
        "\n",
        "plt.xticks(indice,['A', 'B', 'C', 'D', 'E'])\n",
        "plt.legend(loc=9)\n",
        "plt.xlabel('Tipo de material')\n",
        "plt.ylabel('Precio local [1000$/kg]')"
      ]
    },
    {
      "cell_type": "markdown",
      "metadata": {
        "id": "55450248"
      },
      "source": [
        "\n",
        "###  <font color='46B8A9'> **Gráficas de barras apiladas (*stacked*)** </font>\n",
        "\n",
        "Se consiguen incluyendo un nuevo parámetro: `bottom`, el cual indica a partir de que valor de graficarán la barras de una serie:"
      ]
    },
    {
      "cell_type": "code",
      "source": [
        "import matplotlib.pyplot as plt\n",
        "import numpy as np\n",
        "\n",
        "# Sample data\n",
        "categories = ['Category 1', 'Category 2', 'Category 3', 'Category 4', 'Category 5']\n",
        "values_1 = [25, 30, 10, 35, 20]\n",
        "values_2 = [15, 20, 25, 30, 10]\n",
        "\n",
        "# Creating the positions for the bars\n",
        "x = np.arange(len(categories))\n",
        "\n",
        "# Creating the figure and the axes\n",
        "fig, ax = plt.subplots()\n",
        "\n",
        "# Plotting the bars\n",
        "ax.bar(x, values_1, label='Values 1')\n",
        "ax.bar(x, values_2, bottom=values_1, label='Values 2')\n",
        "\n",
        "# Adding labels, title, and legend\n",
        "ax.set_xlabel('Categories')\n",
        "ax.set_ylabel('Values')\n",
        "ax.set_title('Stacked Bar Graph Example')\n",
        "ax.set_xticks(x)\n",
        "ax.set_xticklabels(categories)\n",
        "ax.legend()\n",
        "\n",
        "# Display the graph\n",
        "plt.show()\n"
      ],
      "metadata": {
        "id": "7cou_vOs9dZ4"
      },
      "execution_count": null,
      "outputs": []
    },
    {
      "cell_type": "markdown",
      "metadata": {
        "id": "4b73f674"
      },
      "source": [
        "Es posible obtener gráficas equivalentes con barras horizontales.\n",
        "\n",
        "Para barras apiladas, se debe usar `left` en vez de `bottom` para determinar dónde comienza la nueva serie, y se debe invertir el nombre de los ejes."
      ]
    },
    {
      "cell_type": "code",
      "source": [
        "import matplotlib.pyplot as plt\n",
        "import numpy as np\n",
        "\n",
        "# Sample data\n",
        "categories = ['Category 1', 'Category 2', 'Category 3', 'Category 4', 'Category 5']\n",
        "values_1 = [25, 30, 10, 35, 20]\n",
        "values_2 = [15, 20, 25, 30, 10]\n",
        "\n",
        "# Creating the positions for the bars\n",
        "x = np.arange(len(categories))\n",
        "\n",
        "# Creating the figure and the axes\n",
        "fig, ax = plt.subplots()\n",
        "\n",
        "# Plotting the bars\n",
        "ax.barh(x, values_1, label='Values 1')\n",
        "ax.barh(x, values_2, left=values_1, label='Values 2')\n",
        "\n",
        "# Adding labels, title, and legend\n",
        "ax.set_xlabel('Values')\n",
        "ax.set_ylabel('Categories')\n",
        "ax.set_title('Stacked Bar Graph Example')\n",
        "ax.set_yticks(x)\n",
        "ax.set_yticklabels(categories)\n",
        "ax.legend()\n",
        "\n",
        "# Display the graph\n",
        "plt.show()\n"
      ],
      "metadata": {
        "id": "Vtr7uSa-9i7l"
      },
      "execution_count": null,
      "outputs": []
    },
    {
      "cell_type": "markdown",
      "metadata": {
        "id": "71ed74ee"
      },
      "source": [
        "##  <font color='8EC044'> **Gráficos de torta (*pie charts*)** </font>"
      ]
    },
    {
      "cell_type": "code",
      "execution_count": null,
      "metadata": {
        "id": "8bcf96ec"
      },
      "outputs": [],
      "source": [
        "valores = [10, 30, 45, 15]\n",
        "etiquetas = ['Nokia', 'Samsung', 'Apple','Huawei']\n",
        "colores = ['yellow','green','red','blue']\n",
        "explo = [0,0,0.2,0]    # Separación de un segmento (Apple en este caso)\n",
        "\n",
        "fig, ax = plt.subplots()\n",
        "ax.pie(valores,labels=etiquetas, colors=colores, explode = explo, autopct='%1.1f%%', startangle=180)\n",
        "ax.axis('equal')    # De este modo la figura tendrá forma circular\n",
        "fig.show()"
      ]
    },
    {
      "cell_type": "markdown",
      "source": [
        "#<font color='157699'> **Reto** </font>\n",
        "\n",
        "A un conjunto de diez evaluadores se les pidio organizar en orden de importancia (ranking) once caracteristicas de un servicio de alquiler de mobiliario. La información obtenida se presenta en el siguiente DataFrame\n",
        "\n",
        "\n"
      ],
      "metadata": {
        "id": "Npcmn9l_8y7O"
      }
    },
    {
      "cell_type": "code",
      "source": [
        "import pandas as pd\n",
        "\n",
        "!gdown 1gmtg7a6z_xW26XiCn8kv5okVQcoIHB2j\n",
        "evaluaciones = pd.read_excel('evaluaciones.xlsx')\n",
        "evaluaciones.set_index('Characteristics', inplace = True)\n",
        "evaluaciones.drop(['total', 'ranking'], axis=1, inplace=True)\n",
        "evaluaciones.head(11)"
      ],
      "metadata": {
        "id": "BEXuvfOb5nG-"
      },
      "execution_count": null,
      "outputs": []
    },
    {
      "cell_type": "markdown",
      "source": [
        "Diseñe una estrategia de visualización que permita explorar que tan similares son los ordenamientos de los distintos evaluadores"
      ],
      "metadata": {
        "id": "Bf28d-UB7WeR"
      }
    },
    {
      "cell_type": "code",
      "source": [
        "# Escriba aquí su respuesta\n",
        "\n"
      ],
      "metadata": {
        "id": "bZSIJHUv_DiS"
      },
      "execution_count": null,
      "outputs": []
    }
  ]
}