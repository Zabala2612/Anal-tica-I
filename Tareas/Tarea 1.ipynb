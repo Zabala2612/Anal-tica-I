{
  "nbformat": 4,
  "nbformat_minor": 0,
  "metadata": {
    "colab": {
      "private_outputs": true,
      "provenance": [],
      "include_colab_link": true
    },
    "kernelspec": {
      "name": "python3",
      "display_name": "Python 3"
    },
    "language_info": {
      "name": "python"
    }
  },
  "cells": [
    {
      "cell_type": "markdown",
      "metadata": {
        "id": "view-in-github",
        "colab_type": "text"
      },
      "source": [
        "<a href=\"https://colab.research.google.com/github/Zabala2612/Anal-tica-I/blob/main/Tareas/Tarea%201.ipynb\" target=\"_parent\"><img src=\"https://colab.research.google.com/assets/colab-badge.svg\" alt=\"Open In Colab\"/></a>"
      ]
    },
    {
      "cell_type": "markdown",
      "source": [
        "<p><img alt=\"banner\" height=\"252px\" width=\"1080px\" src=\"https://docs.google.com/uc?export=download&id=1SqbMIjMfsMlSukiTyfMJ0VMuDlP2hGhx\"  align=\"center\" hspace=\"10px\" vspace=\"0px\" ></p>"
      ],
      "metadata": {
        "id": "ix-VqRWgbucB"
      }
    },
    {
      "cell_type": "markdown",
      "source": [
        "# <font color='056938'> **Descripción del problema** </font>\n",
        "\n",
        "La agencia de coperación europea esta diseñando un programa de intervención en los municipios de Colombia con el fin de favorecer la conectividad de aquellos territorios más apartados. Para el diseño de la intervensión se requiere construir una base de datos con la siguiente información de los diferentes municipios de Colombia\n",
        "\n",
        "\n",
        "* Nombre del municipio\n",
        "* Código DANE del municipio\n",
        "* Departamento al que pertenece\n",
        "* Código del Departamento\n",
        "* Acto jurídico de creación del Municipio\n",
        "* Área del municipio\n",
        "* Localización de la cabecera municipal (latitud, longitud)\n",
        "* Distancia a la cabecera municipal de la capital del departamento\n",
        "* Número de habitantes del Municipio\n",
        "* Nombre del alcalde\n",
        "* Dirección de la alcaldía\n",
        "* correo electronico de la alcaldía\n",
        "* Página web de la alcaldía\n",
        "\n",
        "\n",
        "\n",
        "\n",
        "\n"
      ],
      "metadata": {
        "id": "__NNq0FKbwMw"
      }
    },
    {
      "cell_type": "markdown",
      "source": [
        "Desafortudamente la información se encunetra dispersa en diferentes archivos y diferentes formatos. De momento se dispone de tres archivos:\n",
        "* La división política por municipio obtenida del DANE (`DIVIPOLA_Municipios.xlsx`)\n",
        "* El directorio de municipios (`Directorio-Alcaldes-2024-2027.xlsx`)\n",
        "* Un archivo georeferenciado de los municipios (`co_2018_MGN_MPIO_POLITICO.geojson`)\n",
        "\n",
        "El siguiente código carga lso archivos mencionados a este notebook\n"
      ],
      "metadata": {
        "id": "6tt5URMjedJT"
      }
    },
    {
      "cell_type": "code",
      "execution_count": null,
      "metadata": {
        "id": "ij_Z5EzEbpIV"
      },
      "outputs": [],
      "source": [
        "!gdown 1CMEqYcmeGh0zf9rXywAFegZ1xA9IVZAb # DIVIPOLA_Municipios.xlsx\n",
        "!gdown 1sqn2GDhl7ItHy-NfdMwjXlJqn0fa7wp8 # Directorio-Alcaldes-2024-2027.xlsx\n",
        "!gdown 1yyOPsDXgSMJcISDH-_7HqNvqoynnOcTQ # co_2018_MGN_MPIO_POLITICO.geojson"
      ]
    },
    {
      "cell_type": "markdown",
      "source": [
        "Note que particularmente el último archivo (`co_2018_MGN_MPIO_POLITICO.geojson`) es del tipo geojson. El formato GeoJSON es un estándar de codificación para representar datos geoespaciales utilizando el formato de notación de objetos de JavaScript (JSON). El siguiente código permite visualizar dicha información georeferenciada."
      ],
      "metadata": {
        "id": "R1i56DqNgkVq"
      }
    },
    {
      "cell_type": "code",
      "source": [
        "import plotly.express as px\n",
        "import geopandas as gpd\n",
        "\n",
        "# Load the GeoJSON file into a GeoDataFrame\n",
        "gdf = gpd.read_file('co_2018_MGN_MPIO_POLITICO.geojson')\n",
        "\n",
        "# Convert the GeoDataFrame to GeoJSON format\n",
        "geojson = gdf.__geo_interface__\n",
        "\n",
        "# Create a Plotly map\n",
        "fig = px.choropleth_mapbox(gdf,\n",
        "                           geojson=geojson,\n",
        "                           locations=gdf.index,\n",
        "                           color='MPIO_NAREA',  # Change to the column you want to visualize\n",
        "                           center={\"lat\": 7.111788462, \"lon\": -75.56223474},\n",
        "                           mapbox_style=\"carto-positron\",\n",
        "                           color_continuous_scale='RdYlGn',\n",
        "                           zoom=4)\n",
        "\n",
        "# Hide the color scale\n",
        "fig.update_layout(coloraxis_showscale=False)\n",
        "\n",
        "# Show the map\n",
        "fig.show()\n",
        "\n"
      ],
      "metadata": {
        "id": "FZNB72o5iA6J"
      },
      "execution_count": null,
      "outputs": []
    },
    {
      "cell_type": "markdown",
      "source": [
        "Sin embargo, note que dicho archivo contiene no solo información georeferenciada sino otra información de interes para cada municipio\n",
        "\n",
        "![](https://docs.google.com/uc?export=download&id=1qNUSHFUGP_L0jfke4r8aRZJU4362XY6X)\n",
        "\n"
      ],
      "metadata": {
        "id": "cJlKt9wbl4Kv"
      }
    },
    {
      "cell_type": "markdown",
      "source": [
        "## <font color='8EC044'> **Ejercicio** </font>\n",
        "\n",
        "Construya un archivos de datos que incluya toda la información requerida. Tenga presente que de momento no es necesario que valide o corrija la información fatante o defectuosa.\n",
        "\n",
        "Usted debera adicionar en este notebook todos los pasos seguidos para construir el archivo"
      ],
      "metadata": {
        "id": "OFVzK3UImpox"
      }
    },
    {
      "cell_type": "code",
      "source": [
        "#importar librerias\n",
        "import numpy as np\n",
        "import pandas as pd\n",
        "import matplotlib.pyplot as plt\n",
        "import seaborn as sns\n",
        "import plotly.express as px\n",
        "import geopandas as g\n",
        "#subir y leer los archivos\n",
        "divipola= pd.read_excel('DIVIPOLA_Municipios.xlsx')\n",
        "alcaldes= pd.read_excel('Directorio-Alcaldes-2024-2027.xlsx')\n",
        "gdf = gpd.read_file('co_2018_MGN_MPIO_POLITICO.geojson')\n",
        "print(divipola.head())\n",
        "print(alcaldes.head())\n",
        "print(gdf.head())\n",
        "\n"
      ],
      "metadata": {
        "id": "mCrwS_yNgELN"
      },
      "execution_count": null,
      "outputs": []
    },
    {
      "cell_type": "markdown",
      "source": [
        "#Borro la fila cero del daaframe alcaldes"
      ],
      "metadata": {
        "id": "TKHdoKDWgq-9"
      }
    },
    {
      "cell_type": "code",
      "source": [
        "alcaldes = alcaldes.drop(0)\n",
        "alcaldes.head()"
      ],
      "metadata": {
        "id": "CTyo5Q2Ngb-N"
      },
      "execution_count": null,
      "outputs": []
    },
    {
      "cell_type": "markdown",
      "source": [
        "#Borro la columna de No"
      ],
      "metadata": {
        "id": "811qYqZQg1Mz"
      }
    },
    {
      "cell_type": "code",
      "source": [
        "alcaldes = alcaldes.drop(columns=[\"No.\"])\n",
        "alcaldes.head()"
      ],
      "metadata": {
        "id": "0MQYhlJxg0Nx"
      },
      "execution_count": null,
      "outputs": []
    },
    {
      "cell_type": "markdown",
      "source": [
        "#Borro la última columna del dataframe alcaldes"
      ],
      "metadata": {
        "id": "PE61zcphhCTn"
      }
    },
    {
      "cell_type": "code",
      "source": [
        "alcaldes_final = alcaldes.drop(alcaldes.columns[-1], axis=1)\n",
        "alcaldes.head()\n",
        "\n",
        "#colocar todos los nombres de la conlunma municipio en minuscula y sin acento\n",
        "alcaldes[\"Municipio\"] = alcaldes[\"Municipio\"].str.lower()\n",
        "alcaldes[\"Municipio\"] = alcaldes[\"Municipio\"].str.normalize('NFKD').str.encode('ascii', errors='ignore').str.decode('utf-8')\n",
        "# alcaldes\n",
        "alcaldes.head()"
      ],
      "metadata": {
        "id": "Lu8sHR74hFAn"
      },
      "execution_count": null,
      "outputs": []
    },
    {
      "cell_type": "markdown",
      "source": [
        "#Se borra hasta la fila 9 del dataframe"
      ],
      "metadata": {
        "id": "DTK7Q3s7hVqj"
      }
    },
    {
      "cell_type": "code",
      "source": [
        "\n",
        "divipola = divipola.iloc[10:]\n",
        "\n",
        "#borro la ultima colunmna del dataframe\n",
        "divipola = divipola.iloc[:, :-1]\n",
        "\n",
        "\n",
        "#renombro las colunmas del dataframe divipola\n",
        "divipola.columns = [\"numero\",\"departamento\", \"codigo\", \"Municipio\", \"clase\", \"latitud\", \"longitud\"]\n",
        "print(divipola)\n",
        "\n",
        "#eliminar la columna numero\n",
        "divipola = divipola.drop(columns=[\"numero\"])\n",
        "print(divipola)"
      ],
      "metadata": {
        "id": "Xd3-lppGhbg-"
      },
      "execution_count": null,
      "outputs": []
    },
    {
      "cell_type": "markdown",
      "source": [
        "#coloco todos los nombres de la conlunma municipio en minuscula y sin acento"
      ],
      "metadata": {
        "id": "zrULXvGRiIHV"
      }
    },
    {
      "cell_type": "code",
      "source": [
        "\n",
        "divipola[\"Municipio\"] = divipola[\"Municipio\"].str.lower()\n",
        "divipola[\"Municipio\"] = divipola[\"Municipio\"].str.normalize('NFKD').str.encode('ascii', errors='ignore').str.decode('utf-8')\n",
        "divipola"
      ],
      "metadata": {
        "id": "RMQs83CHhysB"
      },
      "execution_count": null,
      "outputs": []
    },
    {
      "cell_type": "markdown",
      "source": [
        "#converto el geojson en dataframe"
      ],
      "metadata": {
        "id": "4eV1j661iM66"
      }
    },
    {
      "cell_type": "code",
      "source": [
        "\n",
        "gdf = pd.DataFrame(gdf)\n",
        "gdf.head()\n",
        "\n",
        "#Cambiar los nombres de las columnas\n",
        "gdf.columns = [\"Codigo_dep\", \"Codigo_mun\", \"Municipio\", \"Creacion\", \"Area\", \"CCNCT\", \"NANO\", \"Departamento\", \"Longitud\", \"Area_geo\", \"Geometria\"]\n",
        "\n",
        "##colocar todos los nombres de la conlunma municipio en minuscula y sin acento\n",
        "gdf[\"Municipio\"] = gdf[\"Municipio\"].str.lower()\n",
        "gdf[\"Municipio\"] = gdf[\"Municipio\"].str.normalize('NFKD').str.encode('ascii', errors='ignore').str.decode('utf-8')\n",
        "gdf\n"
      ],
      "metadata": {
        "id": "pubm7lsniMX9"
      },
      "execution_count": null,
      "outputs": []
    },
    {
      "cell_type": "markdown",
      "source": [
        "#se va a unir los tres dataframe en uno solo por medio de la clave Municipio"
      ],
      "metadata": {
        "id": "ISMo3mFxiaHi"
      }
    },
    {
      "cell_type": "code",
      "source": [
        "\n",
        "df = pd.merge(divipola, alcaldes, on=\"Municipio\")\n",
        "df = pd.merge(df, gdf, on=\"Municipio\")\n",
        "df.head()"
      ],
      "metadata": {
        "id": "8q1VNXAkieu9"
      },
      "execution_count": null,
      "outputs": []
    },
    {
      "cell_type": "code",
      "source": [
        "# Cargar el nuevo DataFrame desde un archivo CSV\n",
        "demografia_df = pd.read_csv('02Dm01_Poblaci%C3%B3n_total_seg%C3%BAn_%C3%A1rea_l_(2018_-_2026).csv')\n",
        "\n",
        "# Convertir la columna 'Fecha' de cadena de texto a entero\n",
        "demografia_df['Fecha'] = demografia_df['Fecha'].astype(int)\n",
        "\n",
        "# Filtrar las filas correspondientes al año 2024\n",
        "demografia_df = demografia_df[demografia_df['Fecha'] == 2024]\n",
        "\n",
        "# Cambiar el nombre de la columna 'mpio_cnmbr' a 'Municipio'\n",
        "demografia_df = demografia_df.rename(columns={'mpio_cnmbr': 'Municipio'})\n",
        "\n",
        "# Convertir los nombres de la columna 'Municipio' a minúsculas y eliminar acentos\n",
        "demografia_df[\"Municipio\"] = demografia_df[\"Municipio\"].str.lower()\n",
        "demografia_df[\"Municipio\"] = demografia_df[\"Municipio\"].str.normalize('NFKD').str.encode('ascii', errors='ignore').str.decode('utf-8')\n",
        "\n",
        "# Unir la columna 'Total' de demografia_df con el DataFrame 'df' utilizando 'Municipio' como clave\n",
        "df = pd.merge(df, demografia_df[[\"Municipio\", \"Total\"]], on=\"Municipio\")\n",
        "\n",
        "# Mostrar las primeras filas del DataFrame resultante\n",
        "df.head()\n"
      ],
      "metadata": {
        "id": "YFBMl1pzir2N"
      },
      "execution_count": null,
      "outputs": []
    },
    {
      "cell_type": "markdown",
      "source": [
        "#Realizoun ordenamiento de los datos."
      ],
      "metadata": {
        "id": "3vAv8Eu3jXgf"
      }
    },
    {
      "cell_type": "code",
      "source": [
        "\n",
        "# dejando solo las siguientes colunmas en el orden que se escribe dentro de la lista\n",
        "df = df[[\"Municipio\", \"codigo\", \"Departamento_x\",\"Codigo_dep\", \"Creacion\", \"Area\", \"latitud\", \"longitud\", \"Longitud\", \"Total\", \"Nombre Alcalde elegido Voto Popular\",  \"Dirección Fisica\", \"Correo Electrónico Institucional\", \"Pagina Web\"]]\n",
        "df.head()"
      ],
      "metadata": {
        "id": "zZSfFYUCjVWv"
      },
      "execution_count": null,
      "outputs": []
    },
    {
      "cell_type": "markdown",
      "source": [
        "# renombro las colunmas a la manera en como se pide en las directrices."
      ],
      "metadata": {
        "id": "0IzEIZtQkFHx"
      }
    },
    {
      "cell_type": "code",
      "source": [
        "\n",
        "df = df.rename(columns={'codigo': 'Codigo de Municipio',\n",
        "                        'Departamento_x': 'Departamento',\n",
        "                        'Codigo_dep': 'Codigo de Departamento',\n",
        "                        'Creacion': 'Creacion del Municipio',\n",
        "                        'Area': 'Area del Municipio',\n",
        "                        'latitud': 'Latitud',\n",
        "                        'longitud': 'Longitud',\n",
        "                        'Longitud': 'Distancia del Municipio a la capital Depto',\n",
        "                        'Total': 'Total habitantes',\n",
        "                        'Nombre Alcalde elegido Voto Popular': 'Nombre Alcalde',\n",
        "                        'Dirección Fisica': 'Direccion de la Alcaldia',\n",
        "                        'Correo Electrónico Institucional': 'Correo Electronico de la Alcaldia',\n",
        "                        'Pagina Web': 'Pagina Web de la Alcaldia'}\n",
        "               )\n",
        "df"
      ],
      "metadata": {
        "id": "3k301pESj-AC"
      },
      "execution_count": null,
      "outputs": []
    }
  ]
}