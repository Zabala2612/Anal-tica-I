{
  "nbformat": 4,
  "nbformat_minor": 0,
  "metadata": {
    "colab": {
      "provenance": [],
      "authorship_tag": "ABX9TyO0DaCJRcgvuFtf7oN/XQ7P",
      "include_colab_link": true
    },
    "kernelspec": {
      "name": "python3",
      "display_name": "Python 3"
    },
    "language_info": {
      "name": "python"
    }
  },
  "cells": [
    {
      "cell_type": "markdown",
      "metadata": {
        "id": "view-in-github",
        "colab_type": "text"
      },
      "source": [
        "<a href=\"https://colab.research.google.com/github/Zabala2612/Anal-tica-I/blob/main/Tareas/Tarea_funcion_pandas.ipynb\" target=\"_parent\"><img src=\"https://colab.research.google.com/assets/colab-badge.svg\" alt=\"Open In Colab\"/></a>"
      ]
    },
    {
      "cell_type": "markdown",
      "source": [
        "#**Función DataFrame.groupby()**\n",
        "\n"
      ],
      "metadata": {
        "id": "knAbhrPWoBwz"
      }
    },
    {
      "cell_type": "markdown",
      "source": [
        "DataFrame.groupby() se utiliza para agrupar datos en un DataFrame basándose en los valores de una o más columnas. Esto es especialmente útil para realizar cálculos estadísticos por grupo, como sumas, medias, máximos, mínimos, etc. También es esencial para operaciones más avanzadas como transformaciones dentro de grupos o filtros condicionales basados en estadísticas de grupo."
      ],
      "metadata": {
        "id": "PERImfCcoQ38"
      }
    },
    {
      "cell_type": "markdown",
      "source": [
        "#**EJEMPLO**"
      ],
      "metadata": {
        "id": "HD3EOZ-5oY5w"
      }
    },
    {
      "cell_type": "code",
      "execution_count": null,
      "metadata": {
        "colab": {
          "base_uri": "https://localhost:8080/"
        },
        "id": "YzmNC5JBhOKx",
        "outputId": "b7c8ebe7-3fae-40f3-c0a1-a66ae5cdf49d"
      },
      "outputs": [
        {
          "output_type": "stream",
          "name": "stdout",
          "text": [
            "   Nombre  Nota   Asignatura\n",
            "0    Juan   9.0  Matemáticas\n",
            "1   Sofia   8.0  Matemáticas\n",
            "2  Manuel   7.5  Matemáticas\n",
            "3   Messi   8.5     Biología\n",
            "4  Neymar   7.0     Biología\n",
            "5   James   8.0     Biología\n"
          ]
        }
      ],
      "source": [
        "import pandas as pd\n",
        "\n",
        "\n",
        "data = {\n",
        "    'Nombre': ['Juan', 'Sofia', 'Manuel', 'Messi', 'Neymar', 'James'],\n",
        "    'Nota': [9, 8, 7.5, 8.5, 7, 8],\n",
        "    'Asignatura': ['Matemáticas', 'Matemáticas', 'Matemáticas', 'Biología', 'Biología', 'Biología']\n",
        "}\n",
        "\n",
        "df = pd.DataFrame(data)\n",
        "\n",
        "\n",
        "print(df)\n"
      ]
    },
    {
      "cell_type": "markdown",
      "source": [
        "Supongamos que queremos calcular la puntuación media de cada alumno en todas las materias:"
      ],
      "metadata": {
        "id": "Hg_UxdrQpHm5"
      }
    },
    {
      "cell_type": "code",
      "source": [
        "grouped = df.groupby('Nombre')['Nota'].mean()\n",
        "\n",
        "print(grouped)\n"
      ],
      "metadata": {
        "colab": {
          "base_uri": "https://localhost:8080/"
        },
        "id": "q67G6XuSoo10",
        "outputId": "6719e120-4e0f-4f90-e6bb-b6c916e48fb2"
      },
      "execution_count": null,
      "outputs": [
        {
          "output_type": "stream",
          "name": "stdout",
          "text": [
            "Nombre\n",
            "James     8.0\n",
            "Juan      9.0\n",
            "Manuel    7.5\n",
            "Messi     8.5\n",
            "Neymar    7.0\n",
            "Sofia     8.0\n",
            "Name: Nota, dtype: float64\n"
          ]
        }
      ]
    },
    {
      "cell_type": "markdown",
      "source": [
        "También podríamos querer ver cómo cada estudiante se desempeñó en cada materia. Para eso, podríamos agrupar por dos columnas:"
      ],
      "metadata": {
        "id": "FQztiW6Mpfal"
      }
    },
    {
      "cell_type": "code",
      "source": [
        "grouped = df.groupby(['Nombre', 'Asignatura'])['Nota'].mean()\n",
        "\n",
        "print(grouped)\n"
      ],
      "metadata": {
        "colab": {
          "base_uri": "https://localhost:8080/"
        },
        "id": "m3WQ2KkJpf7H",
        "outputId": "d8463d3f-8f44-4c97-8dd7-87c1122d4566"
      },
      "execution_count": null,
      "outputs": [
        {
          "output_type": "stream",
          "name": "stdout",
          "text": [
            "Nombre  Asignatura \n",
            "James   Biología       8.0\n",
            "Juan    Matemáticas    9.0\n",
            "Manuel  Matemáticas    7.5\n",
            "Messi   Biología       8.5\n",
            "Neymar  Biología       7.0\n",
            "Sofia   Matemáticas    8.0\n",
            "Name: Nota, dtype: float64\n"
          ]
        }
      ]
    }
  ]
}